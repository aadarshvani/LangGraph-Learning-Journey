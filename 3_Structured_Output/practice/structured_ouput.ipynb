{
 "cells": [
  {
   "cell_type": "code",
   "execution_count": 16,
   "id": "ac3c5a5f",
   "metadata": {},
   "outputs": [],
   "source": [
    "from pydantic import BaseModel, Field\n",
    "\n",
    "from dotenv import load_dotenv\n",
    "load_dotenv()\n",
    "import os\n",
    "from langchain_groq import ChatGroq\n",
    "\n",
    "llm = ChatGroq(\n",
    "    model = 'Gemma2-9b-it',\n",
    "    api_key= os.getenv('GROQ_API_KEY'),\n",
    "    temperature= 1.2\n",
    ")\n",
    "\n",
    "class Country(BaseModel):\n",
    "    \n",
    "    '''Information about a country'''\n",
    "    name : str = Field(description='Name of the Country')\n",
    "    language: str = Field(description='National Language of the country')\n",
    "    capital : str = Field(description='Name of the capital city of the country')\n",
    "    \n",
    "\n",
    "structured_llm = llm.with_structured_output(Country)\n"
   ]
  },
  {
   "cell_type": "code",
   "execution_count": 17,
   "id": "e95db751",
   "metadata": {},
   "outputs": [
    {
     "data": {
      "text/plain": [
       "Country(name='France', language='French', capital='Paris')"
      ]
     },
     "execution_count": 17,
     "metadata": {},
     "output_type": "execute_result"
    }
   ],
   "source": [
    "structured_llm.invoke('Tell me about France')"
   ]
  },
  {
   "cell_type": "code",
   "execution_count": 3,
   "id": "712ec47b",
   "metadata": {},
   "outputs": [],
   "source": [
    "from typing import Annotated, TypedDict, Optional"
   ]
  },
  {
   "cell_type": "code",
   "execution_count": 22,
   "id": "f793fa07",
   "metadata": {},
   "outputs": [
    {
     "data": {
      "text/plain": [
       "{'punchline': 'To reach the highchair.',\n",
       " 'rating': 42,\n",
       " 'setup': 'Why did the babysitter bring a ladder?'}"
      ]
     },
     "execution_count": 22,
     "metadata": {},
     "output_type": "execute_result"
    }
   ],
   "source": [
    "class Joke(TypedDict):\n",
    "    \n",
    "    '''Joke to tell user'''\n",
    "    \n",
    "    setup: Annotated[str, ..., 'The setup of the joke']\n",
    "    punchline : Annotated[str, ..., 'the punchline of the joke']\n",
    "    rating :Annotated[Optional[int], None, 'How funny the joke is on scale of 1 to 100']\n",
    "    \n",
    "    \n",
    "structured_llm2 = llm.with_structured_output(Joke)\n",
    "\n",
    "structured_llm2.invoke('Tell me a saddistic joke on children, it should be dark or dank humor')"
   ]
  },
  {
   "cell_type": "code",
   "execution_count": null,
   "id": "2d89a81d",
   "metadata": {},
   "outputs": [],
   "source": []
  },
  {
   "cell_type": "code",
   "execution_count": null,
   "id": "9ec11221",
   "metadata": {},
   "outputs": [],
   "source": []
  }
 ],
 "metadata": {
  "kernelspec": {
   "display_name": "Python 3",
   "language": "python",
   "name": "python3"
  },
  "language_info": {
   "codemirror_mode": {
    "name": "ipython",
    "version": 3
   },
   "file_extension": ".py",
   "mimetype": "text/x-python",
   "name": "python",
   "nbconvert_exporter": "python",
   "pygments_lexer": "ipython3",
   "version": "3.10.11"
  }
 },
 "nbformat": 4,
 "nbformat_minor": 5
}
